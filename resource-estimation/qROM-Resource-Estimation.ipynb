{
 "cells": [
  {
   "cell_type": "code",
   "execution_count": 1,
   "metadata": {},
   "outputs": [],
   "source": [
    "import numpy as np\n",
    "import qsharp\n",
    "\n",
    "#######################\n",
    "# Import Q# qRAM APIs #\n",
    "#######################\n",
    "import sys\n",
    "sys.path.append(\"../src/\")\n",
    "from Qram import QRAM"
   ]
  },
  {
   "cell_type": "code",
   "execution_count": 27,
   "metadata": {},
   "outputs": [],
   "source": [
    "# Memory parameters\n",
    "n_address_bits = 5 \n",
    "n_output_bits = 2\n",
    "n_ones_addresses = 4"
   ]
  },
  {
   "cell_type": "code",
   "execution_count": 3,
   "metadata": {},
   "outputs": [],
   "source": [
    "random_addresses = np.random.choice(range(2**n_address_bits), size=(n_ones_addresses, ), replace=False)    "
   ]
  },
  {
   "cell_type": "code",
   "execution_count": 8,
   "metadata": {},
   "outputs": [],
   "source": [
    "?bin"
   ]
  },
  {
   "cell_type": "code",
   "execution_count": 23,
   "metadata": {},
   "outputs": [],
   "source": [
    "random_address_ints = np.random.choice(range(2**n_address_bits), size=(n_ones_addresses, ), replace=False)\n",
    "random_address_bool = [True if x == '1' else False for x in list(format(5, f'#0{n_address_bits}b')[2:])]"
   ]
  },
  {
   "cell_type": "code",
   "execution_count": 53,
   "metadata": {},
   "outputs": [],
   "source": [
    "# Can't have more addresses with ones than there are addresses\n",
    "assert(n_ones_addresses < 2**n_address_bits)\n",
    "\n",
    "# Random memory generation\n",
    "n_random_memories = 1\n",
    "\n",
    "resource_estimates = []\n",
    "\n",
    "for sample_memory in range(n_random_memories):\n",
    "    random_addresses = []\n",
    "    random_outputs = []\n",
    "    \n",
    "    # Generate random address \n",
    "    random_address_ints = np.random.choice(range(2**n_address_bits), size=(n_ones_addresses, ), replace=False)\n",
    "    \n",
    "    # Convert to proper input format and generate random output bits\n",
    "    for address in random_address_ints:\n",
    "        random_address_bool = [True if x == '1' else False for x in list(format(address, f'0{n_address_bits}b'))]\n",
    "        random_addresses.append(random_address_bool)\n",
    "    \n",
    "        random_outputs.append(list(np.random.choice([False, True], n_output_bits, replace=True)))\n",
    " \n",
    "    ##################\n",
    "    # QUERY THE QROM #\n",
    "    ##################\n",
    "    resource_data = None    \n",
    "    \n",
    "    resource_estimates.append(resource_data)"
   ]
  },
  {
   "cell_type": "code",
   "execution_count": 54,
   "metadata": {},
   "outputs": [
    {
     "data": {
      "text/plain": [
       "[[True, True, False],\n",
       " [False, True, True],\n",
       " [True, False, True],\n",
       " [True, False, False]]"
      ]
     },
     "execution_count": 54,
     "metadata": {},
     "output_type": "execute_result"
    }
   ],
   "source": [
    "random_addresses"
   ]
  },
  {
   "cell_type": "code",
   "execution_count": 55,
   "metadata": {},
   "outputs": [
    {
     "data": {
      "text/plain": [
       "[[True, True], [True, True], [False, False], [False, False]]"
      ]
     },
     "execution_count": 55,
     "metadata": {},
     "output_type": "execute_result"
    }
   ],
   "source": [
    "random_outputs"
   ]
  },
  {
   "cell_type": "code",
   "execution_count": null,
   "metadata": {},
   "outputs": [],
   "source": []
  }
 ],
 "metadata": {
  "kernelspec": {
   "display_name": "Python 3",
   "language": "python",
   "name": "python3"
  },
  "language_info": {
   "codemirror_mode": {
    "name": "ipython",
    "version": 3
   },
   "file_extension": ".py",
   "mimetype": "text/x-python",
   "name": "python",
   "nbconvert_exporter": "python",
   "pygments_lexer": "ipython3",
   "version": "3.8.3"
  }
 },
 "nbformat": 4,
 "nbformat_minor": 4
}
