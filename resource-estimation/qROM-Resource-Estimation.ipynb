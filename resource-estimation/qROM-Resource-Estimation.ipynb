{
 "cells": [
  {
   "cell_type": "code",
   "execution_count": 1,
   "metadata": {},
   "outputs": [],
   "source": [
    "import numpy as np\n",
    "import qsharp\n",
    "\n",
    "#######################\n",
    "# Import Q# qRAM APIs #\n",
    "#######################\n",
    "import sys\n",
    "sys.path.append(\"../src/\")\n",
    "from Qram import ImplicitQRAMOracle"
   ]
  },
  {
   "cell_type": "code",
   "execution_count": 2,
   "metadata": {},
   "outputs": [],
   "source": [
    "# Memory parameters\n",
    "n_address_bits = 5 \n",
    "n_output_bits = 2\n",
    "n_ones_addresses = 4"
   ]
  },
  {
   "cell_type": "code",
   "execution_count": 6,
   "metadata": {},
   "outputs": [
    {
     "name": "stdout",
     "output_type": "stream",
     "text": [
      "Address: [False, False, False, False, False]\t Contents: [False, True]\n",
      "Address: [False, True, True, False, False]\t Contents: [False, True]\n",
      "Address: [False, False, True, False, True]\t Contents: [True, True]\n",
      "Address: [True, False, True, False, True]\t Contents: [True, True]\n"
     ]
    },
    {
     "ename": "TypeError",
     "evalue": "'ImplicitQRAMOracle' object is not callable",
     "output_type": "error",
     "traceback": [
      "\u001b[0;31m---------------------------------------\u001b[0m",
      "\u001b[0;31mTypeError\u001b[0mTraceback (most recent call last)",
      "\u001b[0;32m<ipython-input-6-25e3a6034791>\u001b[0m in \u001b[0;36m<module>\u001b[0;34m\u001b[0m\n\u001b[1;32m     28\u001b[0m     \u001b[0;31m##################\u001b[0m\u001b[0;34m\u001b[0m\u001b[0;34m\u001b[0m\u001b[0;34m\u001b[0m\u001b[0m\n\u001b[1;32m     29\u001b[0m     \u001b[0;31m# How do we do this??\u001b[0m\u001b[0;34m\u001b[0m\u001b[0;34m\u001b[0m\u001b[0;34m\u001b[0m\u001b[0m\n\u001b[0;32m---> 30\u001b[0;31m     \u001b[0mresource_data\u001b[0m \u001b[0;34m=\u001b[0m \u001b[0mImplicitQRAMOracle\u001b[0m\u001b[0;34m(\u001b[0m\u001b[0mlist\u001b[0m\u001b[0;34m(\u001b[0m\u001b[0mzip\u001b[0m\u001b[0;34m(\u001b[0m\u001b[0mrandom_addresses\u001b[0m\u001b[0;34m,\u001b[0m \u001b[0mrandom_outputs\u001b[0m\u001b[0;34m)\u001b[0m\u001b[0;34m)\u001b[0m\u001b[0;34m)\u001b[0m\u001b[0;34m\u001b[0m\u001b[0;34m\u001b[0m\u001b[0m\n\u001b[0m\u001b[1;32m     31\u001b[0m \u001b[0;34m\u001b[0m\u001b[0m\n\u001b[1;32m     32\u001b[0m     \u001b[0mresource_estimates\u001b[0m\u001b[0;34m.\u001b[0m\u001b[0mappend\u001b[0m\u001b[0;34m(\u001b[0m\u001b[0mresource_data\u001b[0m\u001b[0;34m)\u001b[0m\u001b[0;34m\u001b[0m\u001b[0;34m\u001b[0m\u001b[0m\n",
      "\u001b[0;31mTypeError\u001b[0m: 'ImplicitQRAMOracle' object is not callable"
     ]
    }
   ],
   "source": [
    "# Can't have more addresses with ones than there are addresses\n",
    "assert(n_ones_addresses < 2**n_address_bits)\n",
    "\n",
    "# Random memory generation\n",
    "n_random_memories = 1\n",
    "\n",
    "resource_estimates = []\n",
    "\n",
    "for sample_memory in range(n_random_memories):\n",
    "    random_addresses = []\n",
    "    random_outputs = []\n",
    "    \n",
    "    # Generate random address \n",
    "    random_address_ints = np.random.choice(range(2**n_address_bits), size=(n_ones_addresses, ), replace=False)\n",
    "    \n",
    "    # Convert to proper input format and generate random output bits\n",
    "    for address in random_address_ints:\n",
    "        random_address_bool = [True if x == '1' else False for x in list(format(address, f'0{n_address_bits}b'))]\n",
    "        random_addresses.append(random_address_bool)\n",
    "    \n",
    "        random_outputs.append(list(np.random.choice([False, True], n_output_bits, replace=True)))\n",
    " \n",
    "    for memory_cell in list(zip(random_addresses, random_outputs)):\n",
    "        print(f\"Address: {memory_cell[0]}\\t Contents: {memory_cell[1]}\")\n",
    "\n",
    "    ##################\n",
    "    # QUERY THE QROM #\n",
    "    ##################\n",
    "    # How do we do this??\n",
    "    resource_data = ImplicitQRAMOracle(list(zip(random_addresses, random_outputs)))   \n",
    "    \n",
    "    resource_estimates.append(resource_data)"
   ]
  },
  {
   "cell_type": "code",
   "execution_count": null,
   "metadata": {},
   "outputs": [],
   "source": []
  }
 ],
 "metadata": {
  "kernelspec": {
   "display_name": "Python 3",
   "language": "python",
   "name": "python3"
  },
  "language_info": {
   "codemirror_mode": {
    "name": "ipython",
    "version": 3
   },
   "file_extension": ".py",
   "mimetype": "text/x-python",
   "name": "python",
   "nbconvert_exporter": "python",
   "pygments_lexer": "ipython3",
   "version": "3.8.3"
  }
 },
 "nbformat": 4,
 "nbformat_minor": 4
}
