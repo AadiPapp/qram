{
 "cells": [
  {
   "cell_type": "code",
   "execution_count": null,
   "metadata": {},
   "outputs": [],
   "source": [
    "import numpy as np\n",
    "import qsharp\n",
    "\n",
    "#######################\n",
    "# Import Q# qRAM APIs #\n",
    "#######################\n",
    "import sys\n",
    "sys.path.append(\"../src/\")\n",
    "from Qram import QRAM"
   ]
  },
  {
   "cell_type": "code",
   "execution_count": null,
   "metadata": {},
   "outputs": [],
   "source": [
    "# Memory parameters\n",
    "n_address_bits = 3 \n",
    "n_output_bits = 2\n",
    "n_ones_addresses = 4"
   ]
  },
  {
   "cell_type": "code",
   "execution_count": null,
   "metadata": {},
   "outputs": [],
   "source": [
    "# Can't have more addresses with ones than there are addresses\n",
    "assert(n_ones_addresses < 2**n_address_bits)\n",
    "\n",
    "# Random memory generation\n",
    "n_random_memories = 100\n",
    "\n",
    "resource_estimates = []\n",
    "\n",
    "for sample_memory in range(n_random_memories):\n",
    "    # Generate a bunch of random data and turn\n",
    "    random_addresses = np.random.choice(range(2**n_address_bits), size=(n_ones_addresses, ), replace=False)\n",
    "    random_outputs = np.random.choice(range(2**n_output_bits), size=(n_ones_addresses, ), replace=True)\n",
    " \n",
    "    resource_data = None\n",
    "    ##################\n",
    "    # QUERY THE QROM #\n",
    "    ##################\n",
    "    \n",
    "    \n",
    "    resource_estimates.append(resource_data)"
   ]
  }
 ],
 "metadata": {
  "kernelspec": {
   "display_name": "Python 3",
   "language": "python",
   "name": "python3"
  },
  "language_info": {
   "codemirror_mode": {
    "name": "ipython",
    "version": 3
   },
   "file_extension": ".py",
   "mimetype": "text/x-python",
   "name": "python",
   "nbconvert_exporter": "python",
   "pygments_lexer": "ipython3",
   "version": "3.8.3"
  }
 },
 "nbformat": 4,
 "nbformat_minor": 4
}
